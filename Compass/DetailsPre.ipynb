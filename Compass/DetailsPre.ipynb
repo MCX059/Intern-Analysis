{
 "cells": [
  {
   "cell_type": "code",
   "execution_count": 1,
   "metadata": {},
   "outputs": [],
   "source": [
    "from bs4 import BeautifulSoup\n",
    "import time\n",
    "import pandas as pd\n",
    "import pymysql\n",
    "from tqdm import tqdm\n",
    "import urllib.request\n",
    "import re"
   ]
  },
  {
   "cell_type": "code",
   "execution_count": 2,
   "metadata": {},
   "outputs": [],
   "source": [
    "headers = {\n",
    "    'User-Agent': 'Mozilla/5.0 (Macintosh; Intel Mac OS X 10_15_4) AppleWebKit/537.36 (KHTML, like Gecko) Chrome/81.0.4044.138 Safari/537.36'\n",
    "}\n",
    "url = 'https:' +  '//www.compassedu.hk/newst_19035'\n",
    "request = urllib.request.Request(url=url, headers=headers)\n",
    "response = urllib.request.urlopen(request).read()\n",
    "html = response.decode()\n",
    "\n",
    "soup = BeautifulSoup(html, 'lxml')"
   ]
  },
  {
   "cell_type": "code",
   "execution_count": 3,
   "metadata": {},
   "outputs": [
    {
     "output_type": "execute_result",
     "data": {
      "text/plain": "'圣路易斯华盛顿大学金融硕士研究生offer一枚'"
     },
     "metadata": {},
     "execution_count": 3
    }
   ],
   "source": [
    "soup.h1.text"
   ]
  },
  {
   "cell_type": "code",
   "execution_count": 4,
   "metadata": {},
   "outputs": [],
   "source": [
    "a = soup.find_all('div', attrs={'class': 'd-line'})"
   ]
  },
  {
   "cell_type": "code",
   "execution_count": 5,
   "metadata": {},
   "outputs": [
    {
     "output_type": "execute_result",
     "data": {
      "text/plain": "<div class=\"d-line\">\n<div class=\"spant\">学生姓名</div><div class=\"spani\">D同学</div>\n<div style=\"clear:both\"></div>\n</div>"
     },
     "metadata": {},
     "execution_count": 5
    }
   ],
   "source": [
    "a[0]"
   ]
  },
  {
   "cell_type": "code",
   "execution_count": 6,
   "metadata": {},
   "outputs": [
    {
     "output_type": "execute_result",
     "data": {
      "text/plain": "<div class=\"d-line\">\n<div class=\"spant\">本科学校</div><div class=\"spani\">中国人民大学（苏州校区）</div>\n<div class=\"spant\">本科专业</div><div class=\"spani\">金融学</div>\n<div style=\"clear:both\"></div>\n</div>"
     },
     "metadata": {},
     "execution_count": 6
    }
   ],
   "source": [
    "a[1]"
   ]
  },
  {
   "cell_type": "code",
   "execution_count": 7,
   "metadata": {},
   "outputs": [
    {
     "output_type": "execute_result",
     "data": {
      "text/plain": "<div class=\"d-line\">\n<div class=\"spant\">录取学校</div><div class=\"spani\">圣路易斯华盛顿大学</div>\n<div class=\"spant\">录取专业</div><div class=\"spani\">金融硕士</div>\n<div style=\"clear:both\"></div>\n</div>"
     },
     "metadata": {},
     "execution_count": 7
    }
   ],
   "source": [
    "a[2]"
   ]
  },
  {
   "cell_type": "code",
   "execution_count": 8,
   "metadata": {},
   "outputs": [
    {
     "output_type": "execute_result",
     "data": {
      "text/plain": "<div class=\"d-line\">\n<div class=\"spant\">背景资料</div><div class=\"spani ben-spani\">大四，GPA2.87，托福99，GRE315</div>\n<div style=\"clear:both\"></div>\n</div>"
     },
     "metadata": {},
     "execution_count": 8
    }
   ],
   "source": [
    "a[3]"
   ]
  },
  {
   "cell_type": "code",
   "execution_count": 9,
   "metadata": {},
   "outputs": [
    {
     "output_type": "execute_result",
     "data": {
      "text/plain": "<div class=\"d-line\">\n<div class=\"spant\">主要经历</div>\n<div class=\"spani ben-spani\">\n                                                                                                                    \n                                        1. 光大证券股份有限公司实习<br/>\n                                        \n                                                                                \n                                        2. 昆仑信托有限责任公司实习<br/>\n                                        \n                                                                                \n                                        3. 中信证券股份有限公司实习<br/>\n                                        \n                                                                                \n                                        4. 潍柴动力和法国Baudouin公司品牌冲突问题解决方案<br/>\n                                        \n                                                                                \n                                        5. 中国大学生创业大赛<br/>\n</div>\n<div style=\"clear:both\"></div>\n</div>"
     },
     "metadata": {},
     "execution_count": 9
    }
   ],
   "source": [
    "a[4]"
   ]
  },
  {
   "cell_type": "code",
   "execution_count": 10,
   "metadata": {},
   "outputs": [],
   "source": [
    "original_school = a[1].find_all('div', attrs={'class': 'spani'})[0].text\n",
    "original_major = a[1].find_all('div', attrs={'class': 'spani'})[1].text\n",
    "admitted_school = a[2].find_all('div', attrs={'class': 'spani'})[0].text\n",
    "admitted_major = a[2].find_all('div', attrs={'class': 'spani'})[1].text"
   ]
  },
  {
   "cell_type": "code",
   "execution_count": 11,
   "metadata": {},
   "outputs": [
    {
     "output_type": "execute_result",
     "data": {
      "text/plain": "'金融学'"
     },
     "metadata": {},
     "execution_count": 11
    }
   ],
   "source": [
    "original_major"
   ]
  },
  {
   "cell_type": "code",
   "execution_count": 12,
   "metadata": {},
   "outputs": [],
   "source": [
    "t = a[3].text.replace('\\n', '')"
   ]
  },
  {
   "cell_type": "code",
   "execution_count": 13,
   "metadata": {},
   "outputs": [
    {
     "output_type": "execute_result",
     "data": {
      "text/plain": "'背景资料大四，GPA2.87，托福99，GRE315'"
     },
     "metadata": {},
     "execution_count": 13
    }
   ],
   "source": [
    "t"
   ]
  },
  {
   "cell_type": "code",
   "execution_count": 14,
   "metadata": {},
   "outputs": [],
   "source": [
    "re.match(r'\\d', t)"
   ]
  },
  {
   "cell_type": "code",
   "execution_count": 15,
   "metadata": {},
   "outputs": [
    {
     "output_type": "execute_result",
     "data": {
      "text/plain": "'99'"
     },
     "metadata": {},
     "execution_count": 15
    }
   ],
   "source": [
    "re.findall(r'\\d+', re.findall(r'托福\\d*', t)[0])[0]"
   ]
  },
  {
   "cell_type": "code",
   "execution_count": 16,
   "metadata": {},
   "outputs": [
    {
     "output_type": "execute_result",
     "data": {
      "text/plain": "'2.87'"
     },
     "metadata": {},
     "execution_count": 16
    }
   ],
   "source": [
    "re.findall(r'\\d\\.\\d+', re.findall(r'GPA\\d\\.\\d+', t)[0])[0]"
   ]
  },
  {
   "cell_type": "code",
   "execution_count": 17,
   "metadata": {},
   "outputs": [
    {
     "output_type": "execute_result",
     "data": {
      "text/plain": "'315'"
     },
     "metadata": {},
     "execution_count": 17
    }
   ],
   "source": [
    "re.findall(r'\\d{3}', re.findall(r'GRE\\d{3}', t)[0])[0]"
   ]
  },
  {
   "cell_type": "code",
   "execution_count": 18,
   "metadata": {},
   "outputs": [
    {
     "output_type": "execute_result",
     "data": {
      "text/plain": "'1.光大证券股份有限公司实习2.昆仑信托有限责任公司实习3.中信证券股份有限公司实习4.潍柴动力和法国Baudouin公司品牌冲突问题解决方案5.中国大学生创业大赛'"
     },
     "metadata": {},
     "execution_count": 18
    }
   ],
   "source": [
    "r = a[4].find_all('div')[1].text.replace('\\n', '').replace(' ', '')\n",
    "r"
   ]
  },
  {
   "cell_type": "code",
   "execution_count": 19,
   "metadata": {},
   "outputs": [
    {
     "output_type": "execute_result",
     "data": {
      "text/plain": "<div class=\"d-line\">\n<div class=\"spant\">主要经历</div>\n<div class=\"spani ben-spani\">\n                                                                                                                    \n                                        1. 光大证券股份有限公司实习<br/>\n                                        \n                                                                                \n                                        2. 昆仑信托有限责任公司实习<br/>\n                                        \n                                                                                \n                                        3. 中信证券股份有限公司实习<br/>\n                                        \n                                                                                \n                                        4. 潍柴动力和法国Baudouin公司品牌冲突问题解决方案<br/>\n                                        \n                                                                                \n                                        5. 中国大学生创业大赛<br/>\n</div>\n<div style=\"clear:both\"></div>\n</div>"
     },
     "metadata": {},
     "execution_count": 19
    }
   ],
   "source": [
    "a[4]"
   ]
  },
  {
   "cell_type": "code",
   "execution_count": 20,
   "metadata": {},
   "outputs": [
    {
     "output_type": "execute_result",
     "data": {
      "text/plain": "['1.', '2.', '3.', '4.', '5.']"
     },
     "metadata": {},
     "execution_count": 20
    }
   ],
   "source": [
    "re.findall(r'\\d\\.', r)"
   ]
  },
  {
   "cell_type": "code",
   "execution_count": null,
   "metadata": {},
   "outputs": [],
   "source": []
  }
 ],
 "metadata": {
  "language_info": {
   "codemirror_mode": {
    "name": "ipython",
    "version": 3
   },
   "file_extension": ".py",
   "mimetype": "text/x-python",
   "name": "python",
   "nbconvert_exporter": "python",
   "pygments_lexer": "ipython3",
   "version": "3.7.7-final"
  },
  "orig_nbformat": 2,
  "kernelspec": {
   "name": "python3",
   "display_name": "Python 3"
  }
 },
 "nbformat": 4,
 "nbformat_minor": 2
}