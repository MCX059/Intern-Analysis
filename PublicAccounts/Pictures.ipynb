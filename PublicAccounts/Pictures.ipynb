{
 "cells": [
  {
   "cell_type": "code",
   "execution_count": 53,
   "metadata": {},
   "outputs": [
    {
     "output_type": "execute_result",
     "data": {
      "text/plain": "[]"
     },
     "metadata": {},
     "execution_count": 53
    }
   ],
   "source": [
    "import pandas as pd\n",
    "import urllib.request\n",
    "from bs4 import BeautifulSoup\n",
    "from selenium import webdriver\n",
    "\n",
    "headers = {\n",
    "        'User-Agent': 'Mozilla/5.0 (Macintosh; Intel Mac OS X 10_15_4) AppleWebKit/537.36 (KHTML, like Gecko) Chrome/81.0.4044.138 Safari/537.36'\n",
    "    }\n",
    "url = 'https://mp.weixin.qq.com/s?__biz=MzU2OTE0NzQ5OA==&mid=2247529513&idx=1&sn=47f02eb579797575c1fe58166ea2ce76&chksm=fc811d2ccbf6943a4064338e36476ee1b40c1c2dba26c59b9cc3d83a104849e47467780d6935&scene=27#wechat_redirect'\n",
    "\n",
    "request = urllib.request.Request(url=url, headers=headers)\n",
    "response = urllib.request.urlopen(request).read()\n",
    "html = response.decode()\n",
    "soup = BeautifulSoup(html, 'lxml')\n",
    "\n",
    "soup.find_all('src')\n",
    "\n",
    "# option = webdriver.ChromeOptions()\n",
    "# option.add_argument('headless')\n",
    "# driver = webdriver.Chrome(options=option)\n",
    "# driver.get(url)\n",
    "# html = driver.page_source\n",
    "# soup = BeautifulSoup(html, 'lxml')"
   ]
  },
  {
   "cell_type": "code",
   "execution_count": 56,
   "metadata": {},
   "outputs": [],
   "source": [
    "pic_list = soup.find_all('img')"
   ]
  },
  {
   "cell_type": "code",
   "execution_count": 59,
   "metadata": {},
   "outputs": [],
   "source": [
    "pic_links = []\n",
    "for item in pic_list:\n",
    "    tmp = item.get('data-src')\n",
    "    pic_links.append(tmp)"
   ]
  },
  {
   "cell_type": "code",
   "execution_count": 60,
   "metadata": {},
   "outputs": [
    {
     "output_type": "execute_result",
     "data": {
      "text/plain": "[None,\n 'https://mmbiz.qpic.cn/mmbiz_gif/GgfdT3hSmwicqgMBia3W6WqExZfM5VwSvIpG4luialic42O8C8fZsGTj194SpjdhYWUQ17PJekDjaIjHRWNJBVym1A/640?wx_fmt=gif',\n 'https://mmbiz.qpic.cn/mmbiz_gif/GgfdT3hSmw9W1ttaYyNNohMnJ6mqibsKNwTfm8dsQ0DCcLaMyTz7oIJczCQY5PCoS5aaybP0gvvVPkzSb6Esv8Q/640?wx_fmt=gif',\n 'https://mmbiz.qpic.cn/mmbiz_png/GgfdT3hSmw9W1ttaYyNNohMnJ6mqibsKNttQ4cqB0vN5kaQAz4raysA35dNvcdq4vaCQAsIkMMTvS6tiapDqFeJw/640?wx_fmt=png',\n 'https://mmbiz.qpic.cn/mmbiz_png/GgfdT3hSmw9W1ttaYyNNohMnJ6mqibsKNJwCEemc3YtoVt6DkgkrIfMdjMEZ12xw7OQZwziczicM7ZxRPUt0yJonw/640?wx_fmt=png',\n 'https://mmbiz.qpic.cn/mmbiz_png/GgfdT3hSmw9W1ttaYyNNohMnJ6mqibsKNmCd8GPxRS2tPeqOuMd5BZveJrwr39zYPmfbD8CKpOPAvHsGqGlwj7A/640?wx_fmt=png',\n 'https://mmbiz.qpic.cn/mmbiz_jpg/GgfdT3hSmw9W1ttaYyNNohMnJ6mqibsKNwY6O92MblepVOL20WGGmkDPictJY4QB5fcqb0SkbsAwfjia4DM4s9yIw/640?wx_fmt=jpeg',\n 'https://mmbiz.qpic.cn/mmbiz_jpg/WuHx2B8YYtobpps5c9BjnalcTRM5NgQL1JzJfOdudQ04RrUSX4iap1zibUGaZN4NHaH6StLkiaaLk3UpNlw9Y47ow/640?wx_fmt=jpeg',\n 'https://mmbiz.qpic.cn/mmbiz_png/GgfdT3hSmw9W1ttaYyNNohMnJ6mqibsKNYBDiaZRj1xic5kPoiaqLTbWwSNLacmOoYOP1a0evuFaj8NtM7w1Adj1wQ/640?wx_fmt=png',\n 'https://mmbiz.qpic.cn/mmbiz_png/WuHx2B8YYtqP7QPFdJGPRhAibaXSJ63TGe4bJgSfmdzZrsSgIqwwLpWkXicpmhkMvHfZn5vbibJze7L7CiaeksvnaA/640?wx_fmt=png',\n 'https://mmbiz.qpic.cn/mmbiz_png/WuHx2B8YYtqP7QPFdJGPRhAibaXSJ63TGEWiac0CvwbF7KQBkIKwO4em5HTXDZtO8MCfZsv4LU1MQoXw1f23dtAA/640?wx_fmt=png',\n 'https://mmbiz.qpic.cn/mmbiz_jpg/WuHx2B8YYtobpps5c9BjnalcTRM5NgQLG037obGzpF1G8wYazG0WoENyMLSxGZawZRW5hgLJicP8rpcMibbugQCQ/640?wx_fmt=jpeg',\n 'https://mmbiz.qpic.cn/mmbiz_jpg/WuHx2B8YYtqP7QPFdJGPRhAibaXSJ63TG2fPmaF62kGW8HUsGPSRmaXDvT9s01URe5HYL8ydzEUbErIs7tH7KOg/640?wx_fmt=jpeg',\n 'https://mmbiz.qpic.cn/mmbiz_jpg/WuHx2B8YYtqP7QPFdJGPRhAibaXSJ63TGDHPg9PGHVOHBZfVtLO4LmpDOJnS4ZxwKG5rAyqH6uujZJAtsdLqMkg/640?wx_fmt=jpeg',\n 'https://mmbiz.qpic.cn/mmbiz_jpg/WuHx2B8YYtqP7QPFdJGPRhAibaXSJ63TGmXzLttO6hZr2amyX7dlHB43XIiahOkTxdj3U9eEDSFnvdYudicVZuPtA/640?wx_fmt=jpeg',\n 'https://mmbiz.qpic.cn/mmbiz_png/WuHx2B8YYtqP7QPFdJGPRhAibaXSJ63TGnBEBp7zI5EO9ecsNvapmNZgicwRnA52lrfUp7TejKbIlWIQf98kUl2Q/640?wx_fmt=png',\n 'https://mmbiz.qpic.cn/mmbiz_jpg/WuHx2B8YYtqP7QPFdJGPRhAibaXSJ63TGef1kS1JibdTeMxHiaib0f93wJkP8eyhJaFQsBSAQXFCDqbYlnWCIX7h3A/640?wx_fmt=jpeg',\n 'https://mmbiz.qpic.cn/mmbiz_jpg/WuHx2B8YYtobpps5c9BjnalcTRM5NgQLCPrJe2pb2cL4WIast9H7pIZF9432SEOjRzNkTYSibsB44jvc6NP2dTg/640?wx_fmt=jpeg',\n 'https://mmbiz.qpic.cn/mmbiz_jpg/WuHx2B8YYtobpps5c9BjnalcTRM5NgQLK2qTxYPJL6rvqRXTrGOsm6GDXY7oiasA0Oep2upo17Delf1aziaZcJVg/640?wx_fmt=jpeg',\n 'https://mmbiz.qpic.cn/mmbiz_jpg/WuHx2B8YYtobpps5c9BjnalcTRM5NgQLT6zLHt5B56CP0qj75Wu9BibHialictz0qCeWu8LeD9flO4ylIMF7DxhZw/640?wx_fmt=jpeg',\n 'https://mmbiz.qpic.cn/mmbiz_jpg/WuHx2B8YYtobpps5c9BjnalcTRM5NgQLNc9qncQJsuzBISacVFWRZbsfOUZLTibWJRK5afzoErWVmLB3o7lnLPQ/640?wx_fmt=jpeg',\n 'https://mmbiz.qpic.cn/mmbiz_png/WuHx2B8YYtobpps5c9BjnalcTRM5NgQL9ePDfoS6J7CIBMibF2qtl7ubzvaT1aU19GDPS1LABu3uoa4pxTalNLA/640?wx_fmt=png',\n 'https://mmbiz.qpic.cn/mmbiz_png/WuHx2B8YYtqP7QPFdJGPRhAibaXSJ63TGdlK5m9Z1RRcMVP6icc32bAvpVHKCMrsBpWq07VQibd3SAzeX6CriaK7aQ/640?wx_fmt=png',\n 'https://mmbiz.qpic.cn/mmbiz_jpg/WuHx2B8YYtqP7QPFdJGPRhAibaXSJ63TGyhIhoew6Q99dMvyYZjO7AbUqQe9Yic4GPCgRTKny4nQuXIl41RsrkpA/640?wx_fmt=jpeg',\n 'https://mmbiz.qpic.cn/mmbiz_jpg/WuHx2B8YYtqP7QPFdJGPRhAibaXSJ63TGz9V09YCdxewRcMLh1yZMiazLvOibnXQpO0DO5ksMtjs1GxiaiaibTDV6mWA/640?wx_fmt=jpeg',\n 'https://mmbiz.qpic.cn/mmbiz_jpg/WuHx2B8YYtqP7QPFdJGPRhAibaXSJ63TG88CzN60gFMQFnO6qibf9dBUWQhVQFvMFTauLzh5v0o4vIrHPOn7kVpA/640?wx_fmt=jpeg',\n 'https://mmbiz.qpic.cn/mmbiz_jpg/WuHx2B8YYtqP7QPFdJGPRhAibaXSJ63TG48nS1mn4JmiaHwcicL49WzEDUY7gmicECL55SdXoou76XzEjNdfnKicJjw/640?wx_fmt=jpeg',\n 'https://mmbiz.qpic.cn/mmbiz_jpg/WuHx2B8YYtqP7QPFdJGPRhAibaXSJ63TG0mCnws8YycZobE5HVIfYicVjuib7A61Mx6SVpicuILdGUaLJQAibMyAibXw/640?wx_fmt=jpeg',\n 'https://mmbiz.qpic.cn/mmbiz_jpg/WuHx2B8YYtqP7QPFdJGPRhAibaXSJ63TGlCJ27UGxPMwpmibzH8LticFicCZMuaqS5s0F9TvsDLCKSrJG0BqfMjgEg/640?wx_fmt=jpeg',\n 'https://mmbiz.qpic.cn/mmbiz_jpg/WuHx2B8YYtqP7QPFdJGPRhAibaXSJ63TGlQb7EWTv2ktMOlFkGt0WyAFyicgrKqtib2ibdA1kf7at1EI2vNWMrzZBg/640?wx_fmt=jpeg',\n 'https://mmbiz.qpic.cn/mmbiz_jpg/WuHx2B8YYtqP7QPFdJGPRhAibaXSJ63TGKkK7zKbgurA5f0e16WriaBicIOIWZJHhCqE5nVbichuYYbIYefGC9T3vg/640?wx_fmt=jpeg',\n 'https://mmbiz.qpic.cn/mmbiz_jpg/WuHx2B8YYtqP7QPFdJGPRhAibaXSJ63TG7LlA8SJCsJ0LibSAC92BdFz0u56ZL82PWoTibrOnvZYZveNGiaZ9ZLZoA/640?wx_fmt=jpeg',\n 'https://mmbiz.qpic.cn/mmbiz_png/WuHx2B8YYtqP7QPFdJGPRhAibaXSJ63TGOEGukxTibvf4tojXic2sTLDq3jqHd1xUXdUImExQ7jK3RmYtIPdMoYPg/640?wx_fmt=png',\n 'https://mmbiz.qpic.cn/mmbiz_jpg/WuHx2B8YYtobpps5c9BjnalcTRM5NgQLBoOicgmianJCFOicxs4rb2ibETCl0JJxYBHgBCq8XO1ua266ZWKBFxZQxQ/640?wx_fmt=jpeg',\n 'https://mmbiz.qpic.cn/mmbiz_png/WuHx2B8YYtqP7QPFdJGPRhAibaXSJ63TGsoweLFic6MOOPiae5WJL9pL3PTh9wBdmictDAobHMVX4bB7aaBwicLE3WQ/640?wx_fmt=png',\n 'https://mmbiz.qpic.cn/mmbiz_png/GgfdT3hSmwibpiaicicKCUKkoeEEjaW7rLMeEwsRlTfrCOuicIsK64cdd1B6y5CqIIqRBfZ2H0icWKnBmwkmNdxaMCzw/640?wx_fmt=png',\n 'https://mmbiz.qpic.cn/mmbiz_png/WuHx2B8YYtqP7QPFdJGPRhAibaXSJ63TGNkTQWZlTHhrUjyYH2d5hvGSbTQQu6u9NUx0DbDpKBdOsQWltPP56xw/640?wx_fmt=png',\n 'https://mmbiz.qpic.cn/mmbiz_png/WuHx2B8YYtobpps5c9BjnalcTRM5NgQLEtkOynDh8RUndicobYZRLl7XHMibye5NwYibIXwV1k3blBwmkuL9tqIgw/640?wx_fmt=png',\n 'https://mmbiz.qpic.cn/mmbiz_png/WuHx2B8YYtqP7QPFdJGPRhAibaXSJ63TGakly5cMdJIUv5wtjQHzGrdicRZUzPG9SAmOylw1osrhyWlibC3DSLBPw/640?wx_fmt=png',\n 'https://mmbiz.qpic.cn/mmbiz_png/GgfdT3hSmw9W1ttaYyNNohMnJ6mqibsKNYBDiaZRj1xic5kPoiaqLTbWwSNLacmOoYOP1a0evuFaj8NtM7w1Adj1wQ/640?wx_fmt=png',\n 'https://mmbiz.qpic.cn/mmbiz_png/WuHx2B8YYtqP7QPFdJGPRhAibaXSJ63TGazsib50SclDTdsfqDXEcndqne7eIvPARJDFHChF6OtyicHlib2TUPYboQ/640?wx_fmt=png',\n 'https://mmbiz.qpic.cn/mmbiz_gif/GgfdT3hSmw9QXv0MEzgV48s3tZGWZvU0DsQFzJ0icXbBKDRgA0ZXTIcYX5CevZ7EmjGCzcZHPonsvKbeQhnWHTA/640?wx_fmt=gif',\n None,\n None,\n None,\n None]"
     },
     "metadata": {},
     "execution_count": 60
    }
   ],
   "source": [
    "pic_links"
   ]
  },
  {
   "cell_type": "code",
   "execution_count": 50,
   "metadata": {},
   "outputs": [
    {
     "output_type": "stream",
     "name": "stdout",
     "text": "3\n"
    }
   ],
   "source": [
    "print(3)"
   ]
  },
  {
   "cell_type": "code",
   "execution_count": 51,
   "metadata": {},
   "outputs": [],
   "source": [
    "i = 0\n",
    "for link in pic_links:\n",
    "    if link != None:\n",
    "        i = i + 1\n",
    "        urllib.request.urlretrieve(link, './Results/pictures/' + str(i) + '.png')\n"
   ]
  },
  {
   "cell_type": "code",
   "execution_count": null,
   "metadata": {},
   "outputs": [],
   "source": []
  }
 ],
 "metadata": {
  "language_info": {
   "codemirror_mode": {
    "name": "ipython",
    "version": 3
   },
   "file_extension": ".py",
   "mimetype": "text/x-python",
   "name": "python",
   "nbconvert_exporter": "python",
   "pygments_lexer": "ipython3",
   "version": "3.7.7-final"
  },
  "orig_nbformat": 2,
  "kernelspec": {
   "name": "python3",
   "display_name": "Python 3"
  }
 },
 "nbformat": 4,
 "nbformat_minor": 2
}